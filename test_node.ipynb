{
 "cells": [
  {
   "cell_type": "code",
   "execution_count": 1,
   "metadata": {},
   "outputs": [],
   "source": [
    "from node import *\n",
    "node1 = Node(8002, \"node 1\")"
   ]
  },
  {
   "cell_type": "code",
   "execution_count": 2,
   "metadata": {},
   "outputs": [
    {
     "name": "stdout",
     "output_type": "stream",
     "text": [
      "创世区块\n"
     ]
    }
   ],
   "source": [
    "node1.start()"
   ]
  },
  {
   "cell_type": "code",
   "execution_count": 3,
   "metadata": {},
   "outputs": [
    {
     "name": "stdout",
     "output_type": "stream",
     "text": [
      "node 1  running\n"
     ]
    }
   ],
   "source": [
    "node1.print_blockchain()"
   ]
  },
  {
   "cell_type": "code",
   "execution_count": 4,
   "metadata": {},
   "outputs": [],
   "source": [
    "node2 = Node(8003, \"node 2\")"
   ]
  },
  {
   "cell_type": "code",
   "execution_count": 5,
   "metadata": {},
   "outputs": [
    {
     "name": "stdout",
     "output_type": "stream",
     "text": [
      "node 1 handle request\n",
      "node 2  running\n"
     ]
    }
   ],
   "source": [
    "node2.start()"
   ]
  },
  {
   "cell_type": "code",
   "execution_count": 6,
   "metadata": {},
   "outputs": [
    {
     "name": "stdout",
     "output_type": "stream",
     "text": [
      "hash of prev block is None\n",
      "transactions are [Ypqu7SzmtqO4StrJXiGuZjzhe8pb+6HwyY3n0b6mCEU= mine to earn $1]\n",
      "block hash is 0000005c045ee10bb51b48eb3e93473514a63b60fb0fe87cb388b42a6006e3ac\n",
      "\n",
      "\n"
     ]
    }
   ],
   "source": [
    "node2.print_blockchain()"
   ]
  },
  {
   "cell_type": "code",
   "execution_count": 7,
   "metadata": {},
   "outputs": [
    {
     "name": "stdout",
     "output_type": "stream",
     "text": [
      "1\n"
     ]
    }
   ],
   "source": [
    "node1.get_balance()"
   ]
  },
  {
   "cell_type": "code",
   "execution_count": 8,
   "metadata": {},
   "outputs": [
    {
     "name": "stdout",
     "output_type": "stream",
     "text": [
      "0\n"
     ]
    }
   ],
   "source": [
    "node2.get_balance()"
   ]
  },
  {
   "cell_type": "code",
   "execution_count": 9,
   "metadata": {},
   "outputs": [],
   "source": [
    "tx = Transaction(sender=node1.wallet.address, receiver=node2.wallet.address, amount=0.3)\n",
    "sig = node1.wallet.sign(str(tx))\n",
    "tx.set_sign(node1.wallet.pubkey, sig)"
   ]
  },
  {
   "cell_type": "code",
   "execution_count": 10,
   "metadata": {},
   "outputs": [
    {
     "name": "stdout",
     "output_type": "stream",
     "text": [
      "node 1 broadcast tx to localhost 8003\n",
      "node 2 handle request\n",
      "node 2 verify tx success\n",
      "node 2 generate new block successfully\n",
      "node 2 add new block successfully\n",
      "broadcast block to localhost 8002\n",
      "node 1 handle request\n",
      "node 1 handle new block\n",
      "node 1 block verify true\n",
      "node 1 block add successfully\n"
     ]
    }
   ],
   "source": [
    "node1.broadcast_new_transaction(tx)"
   ]
  },
  {
   "cell_type": "code",
   "execution_count": 11,
   "metadata": {},
   "outputs": [
    {
     "name": "stdout",
     "output_type": "stream",
     "text": [
      "hash of prev block is None\n",
      "transactions are [Ypqu7SzmtqO4StrJXiGuZjzhe8pb+6HwyY3n0b6mCEU= mine to earn $1]\n",
      "block hash is 0000005c045ee10bb51b48eb3e93473514a63b60fb0fe87cb388b42a6006e3ac\n",
      "\n",
      "\n",
      "hash of prev block is 0000005c045ee10bb51b48eb3e93473514a63b60fb0fe87cb388b42a6006e3ac\n",
      "transactions are [HWJOz4ty+7hqU8orfY79hPWMgLHDa91qKwuYedsvzY0= receive $0.3 from Ypqu7SzmtqO4StrJXiGuZjzhe8pb+6HwyY3n0b6mCEU=, HWJOz4ty+7hqU8orfY79hPWMgLHDa91qKwuYedsvzY0= mine to earn $1]\n",
      "block hash is 00000c8d2a168897143e4f437c0d843519b69d7aa858731dee45f3b8ce3d6493\n",
      "\n",
      "\n"
     ]
    }
   ],
   "source": [
    "node2.print_blockchain()"
   ]
  },
  {
   "cell_type": "code",
   "execution_count": 12,
   "metadata": {},
   "outputs": [
    {
     "name": "stdout",
     "output_type": "stream",
     "text": [
      "1.3\n"
     ]
    }
   ],
   "source": [
    "node2.get_balance()"
   ]
  },
  {
   "cell_type": "code",
   "execution_count": 13,
   "metadata": {},
   "outputs": [
    {
     "name": "stdout",
     "output_type": "stream",
     "text": [
      "0.7\n"
     ]
    }
   ],
   "source": [
    "node1.get_balance()"
   ]
  },
  {
   "cell_type": "code",
   "execution_count": 14,
   "metadata": {},
   "outputs": [
    {
     "name": "stdout",
     "output_type": "stream",
     "text": [
      "hash of prev block is None\n",
      "transactions are [Ypqu7SzmtqO4StrJXiGuZjzhe8pb+6HwyY3n0b6mCEU= mine to earn $1]\n",
      "block hash is 0000005c045ee10bb51b48eb3e93473514a63b60fb0fe87cb388b42a6006e3ac\n",
      "\n",
      "\n",
      "hash of prev block is 0000005c045ee10bb51b48eb3e93473514a63b60fb0fe87cb388b42a6006e3ac\n",
      "transactions are [HWJOz4ty+7hqU8orfY79hPWMgLHDa91qKwuYedsvzY0= receive $0.3 from Ypqu7SzmtqO4StrJXiGuZjzhe8pb+6HwyY3n0b6mCEU=, HWJOz4ty+7hqU8orfY79hPWMgLHDa91qKwuYedsvzY0= mine to earn $1]\n",
      "block hash is 00000c8d2a168897143e4f437c0d843519b69d7aa858731dee45f3b8ce3d6493\n",
      "\n",
      "\n"
     ]
    }
   ],
   "source": [
    "node1.print_blockchain()"
   ]
  },
  {
   "cell_type": "code",
   "execution_count": null,
   "metadata": {},
   "outputs": [],
   "source": []
  }
 ],
 "metadata": {
  "kernelspec": {
   "display_name": "Python 3",
   "language": "python",
   "name": "python3"
  },
  "language_info": {
   "codemirror_mode": {
    "name": "ipython",
    "version": 3
   },
   "file_extension": ".py",
   "mimetype": "text/x-python",
   "name": "python",
   "nbconvert_exporter": "python",
   "pygments_lexer": "ipython3",
   "version": "3.7.9"
  }
 },
 "nbformat": 4,
 "nbformat_minor": 4
}
