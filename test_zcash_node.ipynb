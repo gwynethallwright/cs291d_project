{
 "cells": [
  {
   "cell_type": "code",
   "execution_count": 1,
   "metadata": {},
   "outputs": [],
   "source": [
    "from zcash.node import *\n",
    "node1 = Node(8002, \"node 1\")"
   ]
  },
  {
   "cell_type": "code",
   "execution_count": 2,
   "metadata": {},
   "outputs": [
    {
     "name": "stdout",
     "output_type": "stream",
     "text": [
      "node 1 creates genesis block\n",
      "\n",
      "node 1  running\n",
      "\n"
     ]
    }
   ],
   "source": [
    "node1.start()"
   ]
  },
  {
   "cell_type": "code",
   "execution_count": 3,
   "metadata": {},
   "outputs": [
    {
     "name": "stdout",
     "output_type": "stream",
     "text": [
      "node 1 blockchain\n",
      "hash of prev block is None\n",
      "transactions are [WpgrzWgNnH73NGcpvzbN/iCDLGjnXxPWcg/+OU7EFKY= mine to earn $1]\n",
      "block hash is 000f5f95e4af1e5a170783163a75db237727895b0093bf7f3b4edf8570059c4d\n",
      "\n",
      "\n",
      "\n",
      "\n"
     ]
    }
   ],
   "source": [
    "node1.print_blockchain()"
   ]
  },
  {
   "cell_type": "code",
   "execution_count": 4,
   "metadata": {},
   "outputs": [],
   "source": [
    "node2 = Node(8003, \"node 2\")"
   ]
  },
  {
   "cell_type": "code",
   "execution_count": 5,
   "metadata": {},
   "outputs": [
    {
     "name": "stdout",
     "output_type": "stream",
     "text": [
      "node 1 handle request\n",
      "node 2  running\n",
      "\n"
     ]
    }
   ],
   "source": [
    "node2.start()"
   ]
  },
  {
   "cell_type": "code",
   "execution_count": 6,
   "metadata": {},
   "outputs": [
    {
     "name": "stdout",
     "output_type": "stream",
     "text": [
      "node 2 blockchain\n",
      "hash of prev block is None\n",
      "transactions are [WpgrzWgNnH73NGcpvzbN/iCDLGjnXxPWcg/+OU7EFKY= mine to earn $1]\n",
      "block hash is 000f5f95e4af1e5a170783163a75db237727895b0093bf7f3b4edf8570059c4d\n",
      "\n",
      "\n",
      "\n",
      "\n"
     ]
    }
   ],
   "source": [
    "node2.print_blockchain()"
   ]
  },
  {
   "cell_type": "code",
   "execution_count": 7,
   "metadata": {},
   "outputs": [
    {
     "name": "stdout",
     "output_type": "stream",
     "text": [
      "node 1  balance  1\n",
      "node 1  zcash balance is 0\n"
     ]
    }
   ],
   "source": [
    "node1.get_balance()\n",
    "node1.show_coin()"
   ]
  },
  {
   "cell_type": "code",
   "execution_count": 8,
   "metadata": {},
   "outputs": [
    {
     "name": "stdout",
     "output_type": "stream",
     "text": [
      "node 2  balance  0\n",
      "node 1  zcash balance is 0\n"
     ]
    }
   ],
   "source": [
    "node2.get_balance()\n",
    "node1.show_coin()"
   ]
  },
  {
   "cell_type": "code",
   "execution_count": 9,
   "metadata": {},
   "outputs": [
    {
     "name": "stdout",
     "output_type": "stream",
     "text": [
      "node 1 broadcast tx to node 2 localhost 8003\n",
      "node 2 handle request\n",
      "node 2 verify mint tx success\n",
      "node 2 generate new block successfully\n",
      "node 2 add new block successfully\n",
      "broadcast block to localhost 8002\n",
      "node 1 handle request\n",
      "node 1 handle new block\n",
      "node 1 block verify true\n",
      "node 1 verify tx success\n",
      "node 1 verify tx success\n",
      "node 1 block add successfully\n"
     ]
    }
   ],
   "source": [
    "# node1 mint and pour to send to node2\n",
    "tx1 = node1.mint_coin(1)\n",
    "node1.broadcast_new_transaction(tx1)"
   ]
  },
  {
   "cell_type": "code",
   "execution_count": 11,
   "metadata": {},
   "outputs": [
    {
     "name": "stdout",
     "output_type": "stream",
     "text": [
      "node 1  coin is (('2c7f330aa706e673794a92329045fb543d6bc8dc31c3141d4245aac98bd6db0b', '0x478449f455e00f11ce73945bbbd25cde1ace13cee465b1a0e735ec20da499fb486e35c9912bcc2dcd024a99df998b4c1afcd3fcb011e6dfdef7493de3c0955f5'), 1, b'3ff57fa8b01e5ca40c71c2f85e2187231a5d5c1496c9229d13aabfb178a20750', b'cc98a54ea900c15922569c8bf8096f7c84e33403b23c2710a0ebb1eb5bcb377f22d081969ca84e768ad9cfe25f8c8289', b'270d79f7b33e2a59b21489cebcaa4e774baebfba666449cb3ded648d5e72a380', '04af1869085c18c278522728a966541e7f341a3b98c88b16d2f4b5aa4b1e0fe0')\n",
      "node 1  zcash balance is 1\n",
      "node 1 blockchain\n",
      "hash of prev block is None\n",
      "transactions are [WpgrzWgNnH73NGcpvzbN/iCDLGjnXxPWcg/+OU7EFKY= mine to earn $1]\n",
      "block hash is 000f5f95e4af1e5a170783163a75db237727895b0093bf7f3b4edf8570059c4d\n",
      "\n",
      "\n",
      "hash of prev block is 000f5f95e4af1e5a170783163a75db237727895b0093bf7f3b4edf8570059c4d\n",
      "transactions are [04af1869085c18c278522728a966541e7f341a3b98c88b16d2f4b5aa4b1e0fe0,1,62fb121c1e7e6e8a97b44f4b2740c1de62433cee8e8cdfc05d48eab0fd1f9b52,b'270d79f7b33e2a59b21489cebcaa4e774baebfba666449cb3ded648d5e72a380', 46kxXZcPGGesQznttPoWvtctbtPAA5aMATlwir2jXVs= mine to earn $1]\n",
      "block hash is 0001ae0ad9e8f622e90418d63699f2138ebf5dc9d0b1b23637c02906b96163f7\n",
      "\n",
      "\n",
      "\n",
      "\n"
     ]
    }
   ],
   "source": [
    "node1.show_coin()\n",
    "node1.print_blockchain()"
   ]
  },
  {
   "cell_type": "code",
   "execution_count": 12,
   "metadata": {},
   "outputs": [
    {
     "name": "stdout",
     "output_type": "stream",
     "text": [
      "node 1 broadcast tx to node 2 localhost 8003\n",
      "node 2 handle request\n",
      "node 2 verify mint tx success\n",
      "node 2 generate new block successfully\n",
      "node 2 add new block successfully\n",
      "broadcast block to localhost 8002\n",
      "node 1 handle request\n",
      "node 1 handle new block\n",
      "node 1 block verify true\n",
      "node 1 verify tx success\n",
      "node 1 verify tx success\n",
      "node 1 block add successfully\n"
     ]
    }
   ],
   "source": [
    "tx2 = node1.mint_coin(1)\n",
    "node1.broadcast_new_transaction(tx2)"
   ]
  },
  {
   "cell_type": "code",
   "execution_count": 13,
   "metadata": {},
   "outputs": [
    {
     "name": "stdout",
     "output_type": "stream",
     "text": [
      "node 1  coin is (('2c7f330aa706e673794a92329045fb543d6bc8dc31c3141d4245aac98bd6db0b', '0x478449f455e00f11ce73945bbbd25cde1ace13cee465b1a0e735ec20da499fb486e35c9912bcc2dcd024a99df998b4c1afcd3fcb011e6dfdef7493de3c0955f5'), 1, b'3ff57fa8b01e5ca40c71c2f85e2187231a5d5c1496c9229d13aabfb178a20750', b'cc98a54ea900c15922569c8bf8096f7c84e33403b23c2710a0ebb1eb5bcb377f22d081969ca84e768ad9cfe25f8c8289', b'270d79f7b33e2a59b21489cebcaa4e774baebfba666449cb3ded648d5e72a380', '04af1869085c18c278522728a966541e7f341a3b98c88b16d2f4b5aa4b1e0fe0')\n",
      "node 1  coin is (('2c7f330aa706e673794a92329045fb543d6bc8dc31c3141d4245aac98bd6db0b', '0x478449f455e00f11ce73945bbbd25cde1ace13cee465b1a0e735ec20da499fb486e35c9912bcc2dcd024a99df998b4c1afcd3fcb011e6dfdef7493de3c0955f5'), 1, b'e9f993ce0f3931378570ef69e9199191a8c9fe7c5cf50865cdb7a903852dd04a', b'33fc77b3898cea1bc03f4d56de221eda9a9f2c154fa9cbd9127637a3000497d7b7d612c9085cd15a11606e1a75c3380a', b'ccc2e16f97a4e8f91bf1931d2ca5ad7ebe5e3f993611e930dc8f9472229fb570', '0325590dfd1f2596ee052155688e423c263a4a34de99ef8a35c9ccf7f89e77b8')\n",
      "node 1  zcash balance is 2\n"
     ]
    }
   ],
   "source": [
    "node1.show_coin()"
   ]
  },
  {
   "cell_type": "code",
   "execution_count": 14,
   "metadata": {},
   "outputs": [],
   "source": [
    "coin_old_1 = list(node1.coin_set)[0]\n",
    "coin_old_2 = list(node1.coin_set)[1]\n",
    "tx3 = node1.pour_coin(coin_old_1, coin_old_2, node1.addr_sk, node1.addr_sk, 1, 1, node2.addr_pk, node2.addr_pk, 0, \"\")"
   ]
  },
  {
   "cell_type": "code",
   "execution_count": 15,
   "metadata": {},
   "outputs": [
    {
     "name": "stdout",
     "output_type": "stream",
     "text": [
      "node 1 broadcast tx to node 2 localhost 8003\n",
      "node 2 handle request\n",
      "node 2 verify pour tx success\n",
      "node 2 generate new block successfully\n",
      "node 2 add new block successfully\n",
      "broadcast block to localhost 8002\n",
      "node 1 handle request\n",
      "node 1 handle new block\n",
      "node 1 block verify true\n",
      "node 1 verify tx success\n",
      "node 1 verify tx success\n",
      "node 1 block add successfully\n"
     ]
    }
   ],
   "source": [
    "node1.broadcast_new_transaction(tx3)"
   ]
  },
  {
   "cell_type": "code",
   "execution_count": 16,
   "metadata": {},
   "outputs": [
    {
     "name": "stdout",
     "output_type": "stream",
     "text": [
      "node 1  zcash balance is 0\n",
      "node 2  zcash balance is 0\n"
     ]
    }
   ],
   "source": [
    "node1.show_coin()\n",
    "node2.show_coin()"
   ]
  },
  {
   "cell_type": "code",
   "execution_count": 17,
   "metadata": {},
   "outputs": [],
   "source": [
    "node2.receive_coin(node2.addr_pk, node2.addr_sk)"
   ]
  },
  {
   "cell_type": "code",
   "execution_count": 18,
   "metadata": {},
   "outputs": [
    {
     "name": "stdout",
     "output_type": "stream",
     "text": [
      "node 1  zcash balance is 0\n",
      "node 2  coin is (('f84ae86894ca0a5e4dbe4bc96ecbb8211761f875818897b6ad2cd794dabef52e', '0x24c799a8bc1f3423afce9cfe0102da31b420e1a8e07758fb0a7889fba702171c041555ee6e9da182a61d0d0cdc1b834d83f79eddabccd317707140e381a4b7a6'), b'0000000000000001', b'bfbf5e4d69dce203ed921ee77f20f0357c2ae18bcb5817631d33bc6caad8ea0d', b'44270ba6234784173f989cd8a31d13ec4524c14982eb9548fed9f32e7dfb229f58a45e4ec4c00173fd580fa92345b6be', b'6ad95bf9d194cb104affae5f68cc44c3108e8565cc7a5338e3cd8a4bd364bc31', 'c5d76f56001760288126f9f6e3b8fc8f2ef825a782c6ea777d414f0c38429342')\n",
      "node 2  coin is (('f84ae86894ca0a5e4dbe4bc96ecbb8211761f875818897b6ad2cd794dabef52e', '0x24c799a8bc1f3423afce9cfe0102da31b420e1a8e07758fb0a7889fba702171c041555ee6e9da182a61d0d0cdc1b834d83f79eddabccd317707140e381a4b7a6'), b'0000000000000001', b'89856f38f694fb9271d5640e9e681d7680875b2b202b20fcab5607df1322fd01', b'5fe2872f33685132f07d0bae813b0835e37fdfe7ec557f6dceaff975fb0f01351142b8bf6126d1b386237968dfb9038f', b'6042c03e1b6c4cd0a8e89770ca611dc4cfd938b06aa179f2c1927d190831c085', '5aa292433dd44bded9e865dbaf8fdcfbdd1c38aa0499ccbb4307f1d9b95f1692')\n",
      "node 2  zcash balance is 2\n"
     ]
    }
   ],
   "source": [
    "node1.show_coin()\n",
    "node2.show_coin()"
   ]
  },
  {
   "cell_type": "code",
   "execution_count": 20,
   "metadata": {},
   "outputs": [
    {
     "name": "stdout",
     "output_type": "stream",
     "text": [
      "node 2 blockchain\n",
      "hash of prev block is None\n",
      "transactions are [7tPwoTnY8l/EGmRc2VjJKKzTijJgNbEpgXLJdUydW/o= mine to earn $1]\n",
      "block hash is 0005d10f0befca12934cd7a7080ee275678ff6c2b1224c6680d23b97fe03e9e7\n",
      "\n",
      "\n",
      "hash of prev block is 0005d10f0befca12934cd7a7080ee275678ff6c2b1224c6680d23b97fe03e9e7\n",
      "transactions are [79cea9aef14b9caefc0e4b588662274adf48782da485a9d9710f7a2cd28e69b4,1,94df0fb35b6f540a09d871ad1673fe172f6c87c630b1fb6b8e95bd983c484258,b'a3a0361d31e7b3293b4fe849d073c5c3a36170435fb72712d1c1f0f162e1ef87', l6co1/Q+6QDXw8waVuiMFCORYCVkePDWw/1vifh0M54= mine to earn $1]\n",
      "block hash is 000fe30bf79b66d13195dc04c3039afcdea0418b44f7012874a951f4ca2a680a\n",
      "\n",
      "\n",
      "hash of prev block is 000fe30bf79b66d13195dc04c3039afcdea0418b44f7012874a951f4ca2a680a\n",
      "transactions are [2c3f67cb0ad5500554dc68e1b51592bb571ecee6a035fdd022faac2f152f585b,1,b31e9f0dba6077923186856ca4318bfda1e940aa6c1654a8e517f27a2a951e4a,b'd2a593cc4f85f881ffe98df355f9227126653f0b1e03473ece25d7d4114e4c68', l6co1/Q+6QDXw8waVuiMFCORYCVkePDWw/1vifh0M54= mine to earn $1]\n",
      "block hash is 0002ed95ab8de0e5e49dba87c7cc46285164bbb1fcbe9006dc5e8e5b9d62298d\n",
      "\n",
      "\n",
      "hash of prev block is 0002ed95ab8de0e5e49dba87c7cc46285164bbb1fcbe9006dc5e8e5b9d62298d\n",
      "transactions are [bf47802b4cfa508bebf2adfda2eb8713e9063db112f947f77dd21c77dd4cb19f,1,7dff3f745e70d80e7042d1ee0345f8639f59033110935996f015c0886a38fcf6,b'93064c815f89e8824cc60f88482b74180f1cb1ba56d6da1e38b7b22b7c32a075', l6co1/Q+6QDXw8waVuiMFCORYCVkePDWw/1vifh0M54= mine to earn $1]\n",
      "block hash is 0000ac424e7844eab5cab74da20078a6ca4961b7df8b428143007aed43ac01d1\n",
      "\n",
      "\n",
      "hash of prev block is 0000ac424e7844eab5cab74da20078a6ca4961b7df8b428143007aed43ac01d1\n",
      "transactions are [dfe649cc32281ad0d4d4591d676b294d2fc431684bbd554d788cd74c1694fb66,1,f84a1f54c9c2894f2b81c4e973f1a1002f0550dcb5de3cfc7a19adff92e51cc0,b'44ba0ec8c3c8fadbeab191519347fc6d318d5b1de6131d904ae34e646c309b4f', l6co1/Q+6QDXw8waVuiMFCORYCVkePDWw/1vifh0M54= mine to earn $1]\n",
      "block hash is 0006231ea0bc12bc4334628d5540354ee70738ca1dd2f4fc4cde674f082ce7d1\n",
      "\n",
      "\n",
      "hash of prev block is 0006231ea0bc12bc4334628d5540354ee70738ca1dd2f4fc4cde674f082ce7d1\n",
      "transactions are [03b3200c5a49a7a7c363fef235c42b7c844258ee7199cf2a75be2e1f5944f631,1,0b63cc190fb129e754ffef41dabbb8add11108df7d44dd310b592072e9fb7686,b'c8625240b89b8d63fda8f685ab53920c6748d4ad6da9a5905dbdd8abf57b3eb2', l6co1/Q+6QDXw8waVuiMFCORYCVkePDWw/1vifh0M54= mine to earn $1]\n",
      "block hash is 0007de3ca1840ef096966ecda301647dd584c1fd56de3eae74f2fc7d15cd9cf5\n",
      "\n",
      "\n",
      "hash of prev block is 0007de3ca1840ef096966ecda301647dd584c1fd56de3eae74f2fc7d15cd9cf5\n",
      "transactions are [94f435177c38572ef7dc987dbc99542dc3a9d84e467999aa1b4c78353191e93a,881574c92e18d6bd2ea59d32a000c01c706880ecb566174cb2e97f1fe77e9f57,e46cf79db46f5bb86a71c152e898ea72cec7293b8433429a4c2588e08b0b7a37,d6f41105fe282164185d60bfc3f2f1013e954fca1a295e199f04c2557fb4d69a,12aabeac2b07c8e0fed4f850d07ce860e23b77d4f081308dd22180d19b7ef95c,0,,-----BEGIN PUBLIC KEY-----\n",
      "MFYwEAYHKoZIzj0CAQYFK4EEAAoDQgAE1m+SZYb7cGcCWg5OC3XvXEBmZq5zBm8t\n",
      "5ZqgP4mdODJMBl6/DvdfmG//th1RtrextoAWst47nFG7f4i2XQQtOg==\n",
      "-----END PUBLIC KEY-----\n",
      ",20b4dd654ef588243c04bae8d1522a6acc6683a6419641aed2fc1a19d69cf191,eb1dbfffea6c6d6b9d94068ec6f779fa2d9e3a2d55ba78d1bc4b9b568846a91f,1,\u0004¼U?ø\u0016ÝÏámn ßT\u0013×~; ÛOxy0'Ç\" 6ä´ðQV\u0019zy¢ÁT\u001d",
      "|v\u0001é¸^¾_æ\té·c3DyNüO\u000b",
      "vúÚs:\u000fì»9ægñ\f",
      "_iv¼!\u0001m~\n",
      "\u001bbèï\u0013",
      "ã¢É\u0003þ«4Eó\u0006ZÒrçæþR.4ÁZ\u0010¼¿uäyX\u00139º~\b~i¬¼õ:àï\f",
      ",!\n",
      "Wød\u0006)Að\u001fñ%Ó\u001e",
      "{\u0000×î\u001f\u0001Æ\u0013å4\u0015ÆF¦\u001bifÞ\u0005ÑrUL\u000fþ\u001e",
      "@i-ÂäjÆ\u0019ç#Vþa°àD\u0005/d»ë\u0017\u001d",
      "0£Ó\r",
      "!b¸\u000f0Ê°IØ´\t!hA\u0004°îp~¶jéUú·¹g¯zÌiTG(É\u0001Íº7ê\u001aRF¹\n",
      " o¦\u0013ÕB(¼r·@gÂl½þ#©×8¢©pA¹=AH!ãh*¢Jp\u0011\u000b",
      "¢çÐ§\u0015\u000eÕ,\u0004l QY\\ãæåãäÀ1¨&+v_·<$\u001e",
      "y\u0007Jß~¹\u0016\u001e",
      "u\bo¥+<\u0013#=1¿ü¨20\r",
      "\u0018\u0013AaÍ½/|ú0Æ­ä\u0012^Án\u0003ê\u001aÐ\\Pêã\u0015XÃÔú\t¤2;0\u0007D,ô\u001a@P\"¸Þ¿lÆ\f",
      "V\f",
      "\u0016Ê\\\\±\n",
      "g^~Æ½4[Ëfòøµ\u001bkÆ¹8W°úgdäÛ{¶~äÂF<S\f",
      "\t>oýR]Ïa¢mwÀïÎÖì·ÿd\u0015,´BZèûíØüzÕfü,å¾¹²b",
      "ÔãP>\f",
      "ÑOvTà0I\u0015T8VU8ldi\u0006\u0019æw¥\u0003vê\u0014åø\u0002r'íj\u000b",
      "¯\u00159ä¡,\u0010¼ù_ú~:{ê¡äÒ,|,Â.qM\u0003&ÏQá\u001a­yØra¸^©¶<_\u00182P¢o\"\u0012ç:¦$2õ°+ü\u0004.©\u0014.gû;µ° ö6$%1fIÂïìfï·,3270ae682508f191b0bc07f02872e9d6a191f40beedb1d3cd053c1f2cc9b3f960a12109953eb4b7cfedd6785674e7580abd15f1b569c076f7faa8c79b33ed47e, l6co1/Q+6QDXw8waVuiMFCORYCVkePDWw/1vifh0M54= mine to earn $1]\n",
      "block hash is 000648cbfec736471284ecc3ef8640e1849a638a4534607f2edf6428c67b6482\n",
      "\n",
      "\n",
      "\n",
      "\n"
     ]
    }
   ],
   "source": [
    "node2.print_blockchain()"
   ]
  },
  {
   "cell_type": "code",
   "execution_count": 19,
   "metadata": {},
   "outputs": [
    {
     "name": "stdout",
     "output_type": "stream",
     "text": [
      "node 2  balance  3\n"
     ]
    }
   ],
   "source": [
    "node2.get_balance()"
   ]
  },
  {
   "cell_type": "code",
   "execution_count": 20,
   "metadata": {},
   "outputs": [
    {
     "name": "stdout",
     "output_type": "stream",
     "text": [
      "node 1  balance  1\n"
     ]
    }
   ],
   "source": [
    "node1.get_balance()"
   ]
  },
  {
   "cell_type": "code",
   "execution_count": 21,
   "metadata": {},
   "outputs": [
    {
     "name": "stdout",
     "output_type": "stream",
     "text": [
      "node 1 blockchain\n",
      "hash of prev block is None\n",
      "transactions are [+WcKmo2z0IfZA6cbWZA3cVAbK4O34kAxawGlAZ/Gchc= mine to earn $1]\n",
      "block hash is 000143e64c098b0739282dfca133a314800cf7a7c6014f0bbc0f453030848e97\n",
      "\n",
      "\n",
      "hash of prev block is 000143e64c098b0739282dfca133a314800cf7a7c6014f0bbc0f453030848e97\n",
      "transactions are [61a205aa1e43b12c58c8dc45b4334aa8c1d23416186c926c9a3c2103936f85f7,1,22613209ad3d3a30dcc8d676602d4f1241f928d22dd2aef793499ef5c874213b,b'bcb1b6f39fa00bdbccb7d8b79f62454abf6fb8e291446b1588ba0e31925f5977', 5zAKFyoDuSQfw2qvvlJpXLeCZLUXuj1r5FlzrbW+pR0= mine to earn $1]\n",
      "block hash is 000a4563a76ccbf5f7d11df5835db26c35e81b39633e853f0e5b0e26cc93f913\n",
      "\n",
      "\n",
      "hash of prev block is 000a4563a76ccbf5f7d11df5835db26c35e81b39633e853f0e5b0e26cc93f913\n",
      "transactions are [dc89acbeedc3ce8d3683e318ecb1e4ade2caa03144808f896e1c89c42d69e717,1,d75b6f67437e4aa6371bcfd2a38fe077a23ef4994e791b9766c59664825bc1af,b'a6301e0c2ffdb152ee797023516d5c4a1adba1c73833e0f395c4d1c3a94abaa3', 5zAKFyoDuSQfw2qvvlJpXLeCZLUXuj1r5FlzrbW+pR0= mine to earn $1]\n",
      "block hash is 0008a504f4588ce20385f4c4bf49b2256991d06ed5d176e59a1c3a2d7476f959\n",
      "\n",
      "\n",
      "hash of prev block is 0008a504f4588ce20385f4c4bf49b2256991d06ed5d176e59a1c3a2d7476f959\n",
      "transactions are [69111c844989bc1a163279d8c772d57cd6939d0affa3585fe4d742d47870dcec,2145369deaf66987aaee0f3e5f06ba20a1e8ae61ac97a21c5d88d1774a9a0133,a9df2b49db319736534fe4b552fe0e70a4f1b032f15fb33f80989563102a8119,9aa93f88f14ea375b6da2dcb45581beae8802a22ea634c8ecd3dec01860b14d6,0d3fbef1ccce1eb2953163b1e43c63c8376a1a1a657059d2ce421b33af7cfda8,0,,-----BEGIN PUBLIC KEY-----\n",
      "MFYwEAYHKoZIzj0CAQYFK4EEAAoDQgAEyn3iyavSqzuO/51pFYBKJLba/hCdsT3v\n",
      "tfO+anM2DW/1z+DckQHN4OzljolWTf1nXhD6/CzaiVFxG2jukz4Nmw==\n",
      "-----END PUBLIC KEY-----\n",
      ",90313bebb765536496b3f87593aa62512b9476346229af0ce791d3452558f907,2273061f4b53a409fa9e577bb75070fc56c95537a83e50cd94f5a29979aa6e23,1,\u0004\u0015\u001c",
      "\u0003ÖJ¡B/VW\u0003BP`bZväö8úÃ%_VýË$`¶Ý¶\u0010#TT\u0011ùàl¯yL8WT¡õ_\u001c",
      "ÿÚ1´Î¯å¢Â>ê%rNÉ\u0011VÚ\u0017åÁ\u001e",
      "üá9uþ³¿b¹ãësÜq¥-\u0016\u001d",
      "9êÈ\"£#Ãyy«M´%_l?HÉuËSúÒ\u0012zQútÕ²\u0005tÕifv\u000b",
      "gÉ!_IÊÑâeèä¢ðA C_\u0005\r",
      "ð\u000f\n",
      "ëÓ\u001a2[\u0000'rU\u001d",
      "oõ>é§kiLßl\u0004{¾·åØØY(\u0004-¦7^Ù¾\u000e?\u001c",
      "Ø*¡«\u0007EÇYtÌá\u001d",
      "34ÆeYóU\u000faì¯2$£ÍÚº\u001f*MÞxòk­ûÎC\u0010w\n",
      "Càà'Í\u0003­:\u0016$6]:÷\n",
      " óøä\\û*ì9Ê\u0000ÔñÒAì îÁ.\u0014\n",
      "ö»l\u0017\\mÛ\f",
      "Û\u0011Öõ¤Ã@ééumsDB\n",
      "k>\u0018\u001bñw,\u0004-­¸Ó\u0007ªrG\u001c",
      " 8®k£HFLeÂ\u0011 w&\n",
      "Õ³7¯Ænh£Ð\";ÑÂv\bà\u0010þek\u0003/Óá>\u0015FôÈ",
      "\u001a¯È_Õ¡±Ë-}Rx",
      "\u001e",
      "©ÊÅðR¼öuÚÑï<¤áô\u000fëÀú\u0018£\u0000ÊqÝÿêüqý3Pü`\u0013ë´ä\u0007æ°{~¼mr®\u00044=Îh«¦3äTlÆ|k%eÔ\u0017U\b V+W\n",
      "ÚøÇv,¨gd±§\b/»÷\u0012l\u0005\\\u0000Å\u0010/º\u001d",
      "\u001a}õ¤Ú\\\u0004AOôy\bÄÝpìûdoG9|D5ô\u0003ÚNÍ\f",
      "d|n¶\u0018·Ó.Hz1éL¥a\"y}5ª8@Åä÷j0·åjôÁI\\A;sAýàðuËÞÞ9õ\u0017Óù\u0000l\u001c",
      "Ë\"¨;ºxl=µW¬O(ù{ùf(±<bj¦%\u0000,\u000e¤b]û½N\u000f\u0015·âW÷ú.A]T­f×\u0013Ç\u0015:]<[Ek,6357be8038c16caee84a807a82514e468558d7ece4aa5a2a81c95af1933c6758d3016befa206402a60a6a35f733b551e5c2fc665e9d963c3fff05ff3274ca2ed, 5zAKFyoDuSQfw2qvvlJpXLeCZLUXuj1r5FlzrbW+pR0= mine to earn $1]\n",
      "block hash is 0003aabb76b9494897eabb3da5e6da8b0c42d9efb67e6873fadf885234be6925\n",
      "\n",
      "\n",
      "\n",
      "\n"
     ]
    }
   ],
   "source": [
    "node1.print_blockchain()"
   ]
  },
  {
   "cell_type": "code",
   "execution_count": null,
   "metadata": {},
   "outputs": [],
   "source": []
  }
 ],
 "metadata": {
  "kernelspec": {
   "display_name": "Python 3",
   "language": "python",
   "name": "python3"
  },
  "language_info": {
   "codemirror_mode": {
    "name": "ipython",
    "version": 3
   },
   "file_extension": ".py",
   "mimetype": "text/x-python",
   "name": "python",
   "nbconvert_exporter": "python",
   "pygments_lexer": "ipython3",
   "version": "3.7.9"
  }
 },
 "nbformat": 4,
 "nbformat_minor": 4
}
