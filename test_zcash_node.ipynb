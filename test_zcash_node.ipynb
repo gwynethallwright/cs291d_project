{
 "cells": [
  {
   "cell_type": "code",
   "execution_count": 1,
   "metadata": {},
   "outputs": [],
   "source": [
    "from zcash.node import *\n",
    "node1 = Node(8002, \"node 1\")"
   ]
  },
  {
   "cell_type": "code",
   "execution_count": 2,
   "metadata": {},
   "outputs": [
    {
     "name": "stdout",
     "output_type": "stream",
     "text": [
      "node 1 creates genesis block\n",
      "\n",
      "node 1  running\n",
      "\n"
     ]
    }
   ],
   "source": [
    "node1.start()"
   ]
  },
  {
   "cell_type": "code",
   "execution_count": 3,
   "metadata": {},
   "outputs": [
    {
     "name": "stdout",
     "output_type": "stream",
     "text": [
      "node 1 blockchain\n",
      "hash of prev block is None\n",
      "transactions are [WpgrzWgNnH73NGcpvzbN/iCDLGjnXxPWcg/+OU7EFKY= mine to earn $1]\n",
      "block hash is 000f5f95e4af1e5a170783163a75db237727895b0093bf7f3b4edf8570059c4d\n",
      "\n",
      "\n",
      "\n",
      "\n"
     ]
    }
   ],
   "source": [
    "node1.print_blockchain()"
   ]
  },
  {
   "cell_type": "code",
   "execution_count": 4,
   "metadata": {},
   "outputs": [],
   "source": [
    "node2 = Node(8003, \"node 2\")"
   ]
  },
  {
   "cell_type": "code",
   "execution_count": 5,
   "metadata": {},
   "outputs": [
    {
     "name": "stdout",
     "output_type": "stream",
     "text": [
      "node 1 handle request\n",
      "node 2  running\n",
      "\n"
     ]
    }
   ],
   "source": [
    "node2.start()"
   ]
  },
  {
   "cell_type": "code",
   "execution_count": 6,
   "metadata": {},
   "outputs": [
    {
     "name": "stdout",
     "output_type": "stream",
     "text": [
      "node 2 blockchain\n",
      "hash of prev block is None\n",
      "transactions are [WpgrzWgNnH73NGcpvzbN/iCDLGjnXxPWcg/+OU7EFKY= mine to earn $1]\n",
      "block hash is 000f5f95e4af1e5a170783163a75db237727895b0093bf7f3b4edf8570059c4d\n",
      "\n",
      "\n",
      "\n",
      "\n"
     ]
    }
   ],
   "source": [
    "node2.print_blockchain()"
   ]
  },
  {
   "cell_type": "code",
   "execution_count": 7,
   "metadata": {},
   "outputs": [
    {
     "name": "stdout",
     "output_type": "stream",
     "text": [
      "node 1  balance  1\n",
      "node 1  zcash balance is 0\n"
     ]
    }
   ],
   "source": [
    "node1.get_balance()\n",
    "node1.show_coin()"
   ]
  },
  {
   "cell_type": "code",
   "execution_count": 8,
   "metadata": {},
   "outputs": [
    {
     "name": "stdout",
     "output_type": "stream",
     "text": [
      "node 2  balance  0\n",
      "node 1  zcash balance is 0\n"
     ]
    }
   ],
   "source": [
    "node2.get_balance()\n",
    "node1.show_coin()"
   ]
  },
  {
   "cell_type": "code",
   "execution_count": 9,
   "metadata": {},
   "outputs": [
    {
     "name": "stdout",
     "output_type": "stream",
     "text": [
      "node 1 broadcast tx to node 2 localhost 8003\n",
      "node 2 handle request\n",
      "node 2 verify mint tx success\n",
      "node 2 generate new block successfully\n",
      "node 2 add new block successfully\n",
      "broadcast block to localhost 8002\n",
      "node 1 handle request\n",
      "node 1 handle new block\n",
      "node 1 block verify true\n",
      "node 1 verify tx success\n",
      "node 1 verify tx success\n",
      "node 1 block add successfully\n"
     ]
    }
   ],
   "source": [
    "# node1 mint and pour to send to node2\n",
    "tx1 = node1.mint_coin(1)\n",
    "node1.broadcast_new_transaction(tx1)"
   ]
  },
  {
   "cell_type": "code",
   "execution_count": 11,
   "metadata": {},
   "outputs": [
    {
     "name": "stdout",
     "output_type": "stream",
     "text": [
      "node 1  coin is (('2c7f330aa706e673794a92329045fb543d6bc8dc31c3141d4245aac98bd6db0b', '0x478449f455e00f11ce73945bbbd25cde1ace13cee465b1a0e735ec20da499fb486e35c9912bcc2dcd024a99df998b4c1afcd3fcb011e6dfdef7493de3c0955f5'), 1, b'3ff57fa8b01e5ca40c71c2f85e2187231a5d5c1496c9229d13aabfb178a20750', b'cc98a54ea900c15922569c8bf8096f7c84e33403b23c2710a0ebb1eb5bcb377f22d081969ca84e768ad9cfe25f8c8289', b'270d79f7b33e2a59b21489cebcaa4e774baebfba666449cb3ded648d5e72a380', '04af1869085c18c278522728a966541e7f341a3b98c88b16d2f4b5aa4b1e0fe0')\n",
      "node 1  zcash balance is 1\n",
      "node 1 blockchain\n",
      "hash of prev block is None\n",
      "transactions are [WpgrzWgNnH73NGcpvzbN/iCDLGjnXxPWcg/+OU7EFKY= mine to earn $1]\n",
      "block hash is 000f5f95e4af1e5a170783163a75db237727895b0093bf7f3b4edf8570059c4d\n",
      "\n",
      "\n",
      "hash of prev block is 000f5f95e4af1e5a170783163a75db237727895b0093bf7f3b4edf8570059c4d\n",
      "transactions are [04af1869085c18c278522728a966541e7f341a3b98c88b16d2f4b5aa4b1e0fe0,1,62fb121c1e7e6e8a97b44f4b2740c1de62433cee8e8cdfc05d48eab0fd1f9b52,b'270d79f7b33e2a59b21489cebcaa4e774baebfba666449cb3ded648d5e72a380', 46kxXZcPGGesQznttPoWvtctbtPAA5aMATlwir2jXVs= mine to earn $1]\n",
      "block hash is 0001ae0ad9e8f622e90418d63699f2138ebf5dc9d0b1b23637c02906b96163f7\n",
      "\n",
      "\n",
      "\n",
      "\n"
     ]
    }
   ],
   "source": [
    "node1.show_coin()\n",
    "node1.print_blockchain()"
   ]
  },
  {
   "cell_type": "code",
   "execution_count": 12,
   "metadata": {},
   "outputs": [
    {
     "name": "stdout",
     "output_type": "stream",
     "text": [
      "node 1 broadcast tx to node 2 localhost 8003\n",
      "node 2 handle request\n",
      "node 2 verify mint tx success\n",
      "node 2 generate new block successfully\n",
      "node 2 add new block successfully\n",
      "broadcast block to localhost 8002\n",
      "node 1 handle request\n",
      "node 1 handle new block\n",
      "node 1 block verify true\n",
      "node 1 verify tx success\n",
      "node 1 verify tx success\n",
      "node 1 block add successfully\n"
     ]
    }
   ],
   "source": [
    "tx2 = node1.mint_coin(1)\n",
    "node1.broadcast_new_transaction(tx2)"
   ]
  },
  {
   "cell_type": "code",
   "execution_count": 13,
   "metadata": {},
   "outputs": [
    {
     "name": "stdout",
     "output_type": "stream",
     "text": [
      "node 1  coin is (('2c7f330aa706e673794a92329045fb543d6bc8dc31c3141d4245aac98bd6db0b', '0x478449f455e00f11ce73945bbbd25cde1ace13cee465b1a0e735ec20da499fb486e35c9912bcc2dcd024a99df998b4c1afcd3fcb011e6dfdef7493de3c0955f5'), 1, b'3ff57fa8b01e5ca40c71c2f85e2187231a5d5c1496c9229d13aabfb178a20750', b'cc98a54ea900c15922569c8bf8096f7c84e33403b23c2710a0ebb1eb5bcb377f22d081969ca84e768ad9cfe25f8c8289', b'270d79f7b33e2a59b21489cebcaa4e774baebfba666449cb3ded648d5e72a380', '04af1869085c18c278522728a966541e7f341a3b98c88b16d2f4b5aa4b1e0fe0')\n",
      "node 1  coin is (('2c7f330aa706e673794a92329045fb543d6bc8dc31c3141d4245aac98bd6db0b', '0x478449f455e00f11ce73945bbbd25cde1ace13cee465b1a0e735ec20da499fb486e35c9912bcc2dcd024a99df998b4c1afcd3fcb011e6dfdef7493de3c0955f5'), 1, b'e9f993ce0f3931378570ef69e9199191a8c9fe7c5cf50865cdb7a903852dd04a', b'33fc77b3898cea1bc03f4d56de221eda9a9f2c154fa9cbd9127637a3000497d7b7d612c9085cd15a11606e1a75c3380a', b'ccc2e16f97a4e8f91bf1931d2ca5ad7ebe5e3f993611e930dc8f9472229fb570', '0325590dfd1f2596ee052155688e423c263a4a34de99ef8a35c9ccf7f89e77b8')\n",
      "node 1  zcash balance is 2\n"
     ]
    }
   ],
   "source": [
    "node1.show_coin()"
   ]
  },
  {
   "cell_type": "code",
   "execution_count": 14,
   "metadata": {},
   "outputs": [],
   "source": [
    "coin_old_1 = list(node1.coin_set)[0]\n",
    "coin_old_2 = list(node1.coin_set)[1]\n",
    "tx3 = node1.pour_coin(coin_old_1, coin_old_2, node1.addr_sk, node1.addr_sk, 1, 1, node2.addr_pk, node2.addr_pk, 0, \"\")"
   ]
  },
  {
   "cell_type": "code",
   "execution_count": 15,
   "metadata": {},
   "outputs": [
    {
     "name": "stdout",
     "output_type": "stream",
     "text": [
      "node 1 broadcast tx to node 2 localhost 8003\n",
      "node 2 handle request\n",
      "node 2 verify pour tx success\n",
      "node 2 generate new block successfully\n",
      "node 2 add new block successfully\n",
      "broadcast block to localhost 8002\n",
      "node 1 handle request\n",
      "node 1 handle new block\n",
      "node 1 block verify true\n",
      "node 1 verify tx success\n",
      "node 1 verify tx success\n",
      "node 1 block add successfully\n"
     ]
    }
   ],
   "source": [
    "node1.broadcast_new_transaction(tx3)"
   ]
  },
  {
   "cell_type": "code",
   "execution_count": 16,
   "metadata": {},
   "outputs": [
    {
     "name": "stdout",
     "output_type": "stream",
     "text": [
      "node 1  zcash balance is 0\n",
      "node 2  zcash balance is 0\n"
     ]
    }
   ],
   "source": [
    "node1.show_coin()\n",
    "node2.show_coin()"
   ]
  },
  {
   "cell_type": "code",
   "execution_count": 17,
   "metadata": {},
   "outputs": [],
   "source": [
    "node2.receive_coin(node2.addr_pk, node2.addr_sk)"
   ]
  },
  {
   "cell_type": "code",
   "execution_count": 18,
   "metadata": {},
   "outputs": [
    {
     "name": "stdout",
     "output_type": "stream",
     "text": [
      "node 1  zcash balance is 0\n",
      "node 2  coin is (('f84ae86894ca0a5e4dbe4bc96ecbb8211761f875818897b6ad2cd794dabef52e', '0x24c799a8bc1f3423afce9cfe0102da31b420e1a8e07758fb0a7889fba702171c041555ee6e9da182a61d0d0cdc1b834d83f79eddabccd317707140e381a4b7a6'), b'0000000000000001', b'bfbf5e4d69dce203ed921ee77f20f0357c2ae18bcb5817631d33bc6caad8ea0d', b'44270ba6234784173f989cd8a31d13ec4524c14982eb9548fed9f32e7dfb229f58a45e4ec4c00173fd580fa92345b6be', b'6ad95bf9d194cb104affae5f68cc44c3108e8565cc7a5338e3cd8a4bd364bc31', 'c5d76f56001760288126f9f6e3b8fc8f2ef825a782c6ea777d414f0c38429342')\n",
      "node 2  coin is (('f84ae86894ca0a5e4dbe4bc96ecbb8211761f875818897b6ad2cd794dabef52e', '0x24c799a8bc1f3423afce9cfe0102da31b420e1a8e07758fb0a7889fba702171c041555ee6e9da182a61d0d0cdc1b834d83f79eddabccd317707140e381a4b7a6'), b'0000000000000001', b'89856f38f694fb9271d5640e9e681d7680875b2b202b20fcab5607df1322fd01', b'5fe2872f33685132f07d0bae813b0835e37fdfe7ec557f6dceaff975fb0f01351142b8bf6126d1b386237968dfb9038f', b'6042c03e1b6c4cd0a8e89770ca611dc4cfd938b06aa179f2c1927d190831c085', '5aa292433dd44bded9e865dbaf8fdcfbdd1c38aa0499ccbb4307f1d9b95f1692')\n",
      "node 2  zcash balance is 2\n"
     ]
    }
   ],
   "source": [
    "node1.show_coin()\n",
    "node2.show_coin()"
   ]
  },
  {
   "cell_type": "code",
   "execution_count": 19,
   "metadata": {},
   "outputs": [
    {
     "name": "stdout",
     "output_type": "stream",
     "text": [
      "node 2 blockchain\n",
      "hash of prev block is None\n",
      "transactions are [WpgrzWgNnH73NGcpvzbN/iCDLGjnXxPWcg/+OU7EFKY= mine to earn $1]\n",
      "block hash is 000f5f95e4af1e5a170783163a75db237727895b0093bf7f3b4edf8570059c4d\n",
      "\n",
      "\n",
      "hash of prev block is 000f5f95e4af1e5a170783163a75db237727895b0093bf7f3b4edf8570059c4d\n",
      "transactions are [04af1869085c18c278522728a966541e7f341a3b98c88b16d2f4b5aa4b1e0fe0,1,62fb121c1e7e6e8a97b44f4b2740c1de62433cee8e8cdfc05d48eab0fd1f9b52,b'270d79f7b33e2a59b21489cebcaa4e774baebfba666449cb3ded648d5e72a380', 46kxXZcPGGesQznttPoWvtctbtPAA5aMATlwir2jXVs= mine to earn $1]\n",
      "block hash is 0001ae0ad9e8f622e90418d63699f2138ebf5dc9d0b1b23637c02906b96163f7\n",
      "\n",
      "\n",
      "hash of prev block is 0001ae0ad9e8f622e90418d63699f2138ebf5dc9d0b1b23637c02906b96163f7\n",
      "transactions are [0325590dfd1f2596ee052155688e423c263a4a34de99ef8a35c9ccf7f89e77b8,1,c2935b1dfbeaee4ba72b36d06410e7cec221072cad2242e0f60e121a4e646168,b'ccc2e16f97a4e8f91bf1931d2ca5ad7ebe5e3f993611e930dc8f9472229fb570', 46kxXZcPGGesQznttPoWvtctbtPAA5aMATlwir2jXVs= mine to earn $1]\n",
      "block hash is 00004017ac9128757edd41eb472786d7d1bd3107531b29e23e4fcacb3fe21d39\n",
      "\n",
      "\n",
      "hash of prev block is 00004017ac9128757edd41eb472786d7d1bd3107531b29e23e4fcacb3fe21d39\n",
      "transactions are [419cd64ff6dcb72f50f51a04294b342cab0069b27d71841c6d856cac336ce270,9ebcc11be61e75786b8074c1721b73da1cae66b8826d53f317654fa6f92f17bd,a81941e3c738a53dcc3aaef94add0b3547bc89ac87ef63ff6a1f8811bf4c8b34,c5d76f56001760288126f9f6e3b8fc8f2ef825a782c6ea777d414f0c38429342,5aa292433dd44bded9e865dbaf8fdcfbdd1c38aa0499ccbb4307f1d9b95f1692,0,,-----BEGIN PUBLIC KEY-----\n",
      "MFYwEAYHKoZIzj0CAQYFK4EEAAoDQgAEYrGTKb95PQ2t2hyTKmfPLrSHfErWn5J0\n",
      "ct8hgI433oIEEgdSHxiX6qOOKkZQn2icXE5VcfHOc9rTsDtWDwKCJQ==\n",
      "-----END PUBLIC KEY-----\n",
      ",893968f33b44ac9a4a7889838e28202fe1b376dfc79738bcf621f4fd540a604e,0cefe55da02dbaf1b593d96b43e1b448287f94ac6bdb74fec48a20847ff24df9,1,\u0004pLq|ù1:ñ\u0002\u0001ðìo2FÁE±\u0013±s³\u001aW¤³ÃF0V°-@ÆKq&-Èx\u001f\u0016ùÓü\f",
      "¨J¤¬9IZ]\u001e",
      "pÄ\u0005mG\u001d",
      "\u0015Cq¬5nV5}\u000b",
      "¨",
      "­Æ«¶\u001f`1)\"®\u0012Û{|p%BÖOÙ\u000b",
      ":Ëzq½'øë\u0013g:#\r",
      "µ\"Tsþ)\td/¬\u001b/i\u0018H­æÔLqK\u0005?\u001d",
      "Àh'º\u0018úägÈLZ\u0000ÁBlÆ\n",
      "ÖA&yá­½©UE,á\u0000JónPí\u000fhg'ñÚNÒ\u0010_îË®\n",
      "=0âdÎµ°{Ä?ª\n",
      "â\u0015ÌÉKª½¬ÊÐ:\u0012ÃÂ- vGV:ÊÇàÒ\u000b",
      "ògäÁx#-2Á Dci4\u0005àv\u0001AÛÚá2Ä!#wgÆ¼R8ä\u001alÌAi¸\u000eï\u0019Õ}k@ÓØ`\u0015æLc,Í\u0000Âç\u0019ù\u0001:Ú¶\u001d",
      "ü/9«ÎW¦.¦®;75Áv|{,\u0004\u0003U:ÆKòzÉ×ÿÕ~\u00104úíEóÂ\u0000q¶©\u000b",
      "\u000b",
      "RF4\u001fÑ=¯~E\u001a",
      ">:bpµÙQ³c\t\u0001\u0014%¦x\u001e",
      "÷©>E\u0019³&ÆY\\Ï\u0006{É\u0006\n",
      "ðM'IAý\u0002í¿/ërì|\n",
      "QS±¦¬ÝAf­©ÚqÓO\b¨b{\u0003\u0013O­×9ýu>ÁþKN$\u001beý\u000b",
      "®ísiF£\u001b\u0000äðvþ\f",
      "¿`\u0001UV(A¥}s\u0015[3\u001e",
      "F\u0007Y\u001b}©)¶¯;©ty! È³<\u0015Ií\t\u0010bjoõa4ÛY\u001d",
      "NÞ®¬Î$«¶RLØVÅS\u0003ÓÛ?3gcàÎ±\u000b",
      "ë½¥\u0016\t&\u001c",
      "³ÒÄ¦PõnAO |ìÃp±í.ý\u0006\u0016\u0014ºø'V÷åµøf=Õ\u0005¨Ò\u0012¨T¾\u0007y\f",
      "8rÙM5\u001fº®-\t<¶ïÜD1õK\u0011)_\u001akZÂ«ñÿP¨\u0015,1a36ef57b2d79807330f2ee94bc49412386c79b28937cd376c8a7716b29a83af1947dc49dccda34d9da971f8e38eafdfd6933712a5edbd6c39a7733e687e716e, 46kxXZcPGGesQznttPoWvtctbtPAA5aMATlwir2jXVs= mine to earn $1]\n",
      "block hash is 0000c874977c58d26b8abe58157bce8a01f70434fa875ec75c3113897c9c1381\n",
      "\n",
      "\n",
      "\n",
      "\n"
     ]
    }
   ],
   "source": [
    "node2.print_blockchain()"
   ]
  },
  {
   "cell_type": "code",
   "execution_count": 20,
   "metadata": {},
   "outputs": [
    {
     "name": "stdout",
     "output_type": "stream",
     "text": [
      "node 2  balance  3\n"
     ]
    }
   ],
   "source": [
    "node2.get_balance()"
   ]
  },
  {
   "cell_type": "code",
   "execution_count": 21,
   "metadata": {},
   "outputs": [
    {
     "name": "stdout",
     "output_type": "stream",
     "text": [
      "node 1  balance  1\n"
     ]
    }
   ],
   "source": [
    "node1.get_balance()"
   ]
  },
  {
   "cell_type": "code",
   "execution_count": 22,
   "metadata": {},
   "outputs": [
    {
     "name": "stdout",
     "output_type": "stream",
     "text": [
      "node 1 blockchain\n",
      "hash of prev block is None\n",
      "transactions are [WpgrzWgNnH73NGcpvzbN/iCDLGjnXxPWcg/+OU7EFKY= mine to earn $1]\n",
      "block hash is 000f5f95e4af1e5a170783163a75db237727895b0093bf7f3b4edf8570059c4d\n",
      "\n",
      "\n",
      "hash of prev block is 000f5f95e4af1e5a170783163a75db237727895b0093bf7f3b4edf8570059c4d\n",
      "transactions are [04af1869085c18c278522728a966541e7f341a3b98c88b16d2f4b5aa4b1e0fe0,1,62fb121c1e7e6e8a97b44f4b2740c1de62433cee8e8cdfc05d48eab0fd1f9b52,b'270d79f7b33e2a59b21489cebcaa4e774baebfba666449cb3ded648d5e72a380', 46kxXZcPGGesQznttPoWvtctbtPAA5aMATlwir2jXVs= mine to earn $1]\n",
      "block hash is 0001ae0ad9e8f622e90418d63699f2138ebf5dc9d0b1b23637c02906b96163f7\n",
      "\n",
      "\n",
      "hash of prev block is 0001ae0ad9e8f622e90418d63699f2138ebf5dc9d0b1b23637c02906b96163f7\n",
      "transactions are [0325590dfd1f2596ee052155688e423c263a4a34de99ef8a35c9ccf7f89e77b8,1,c2935b1dfbeaee4ba72b36d06410e7cec221072cad2242e0f60e121a4e646168,b'ccc2e16f97a4e8f91bf1931d2ca5ad7ebe5e3f993611e930dc8f9472229fb570', 46kxXZcPGGesQznttPoWvtctbtPAA5aMATlwir2jXVs= mine to earn $1]\n",
      "block hash is 00004017ac9128757edd41eb472786d7d1bd3107531b29e23e4fcacb3fe21d39\n",
      "\n",
      "\n",
      "hash of prev block is 00004017ac9128757edd41eb472786d7d1bd3107531b29e23e4fcacb3fe21d39\n",
      "transactions are [419cd64ff6dcb72f50f51a04294b342cab0069b27d71841c6d856cac336ce270,9ebcc11be61e75786b8074c1721b73da1cae66b8826d53f317654fa6f92f17bd,a81941e3c738a53dcc3aaef94add0b3547bc89ac87ef63ff6a1f8811bf4c8b34,c5d76f56001760288126f9f6e3b8fc8f2ef825a782c6ea777d414f0c38429342,5aa292433dd44bded9e865dbaf8fdcfbdd1c38aa0499ccbb4307f1d9b95f1692,0,,-----BEGIN PUBLIC KEY-----\n",
      "MFYwEAYHKoZIzj0CAQYFK4EEAAoDQgAEYrGTKb95PQ2t2hyTKmfPLrSHfErWn5J0\n",
      "ct8hgI433oIEEgdSHxiX6qOOKkZQn2icXE5VcfHOc9rTsDtWDwKCJQ==\n",
      "-----END PUBLIC KEY-----\n",
      ",893968f33b44ac9a4a7889838e28202fe1b376dfc79738bcf621f4fd540a604e,0cefe55da02dbaf1b593d96b43e1b448287f94ac6bdb74fec48a20847ff24df9,1,\u0004pLq|ù1:ñ\u0002\u0001ðìo2FÁE±\u0013±s³\u001aW¤³ÃF0V°-@ÆKq&-Èx\u001f\u0016ùÓü\f",
      "¨J¤¬9IZ]\u001e",
      "pÄ\u0005mG\u001d",
      "\u0015Cq¬5nV5}\u000b",
      "¨",
      "­Æ«¶\u001f`1)\"®\u0012Û{|p%BÖOÙ\u000b",
      ":Ëzq½'øë\u0013g:#\r",
      "µ\"Tsþ)\td/¬\u001b/i\u0018H­æÔLqK\u0005?\u001d",
      "Àh'º\u0018úägÈLZ\u0000ÁBlÆ\n",
      "ÖA&yá­½©UE,á\u0000JónPí\u000fhg'ñÚNÒ\u0010_îË®\n",
      "=0âdÎµ°{Ä?ª\n",
      "â\u0015ÌÉKª½¬ÊÐ:\u0012ÃÂ- vGV:ÊÇàÒ\u000b",
      "ògäÁx#-2Á Dci4\u0005àv\u0001AÛÚá2Ä!#wgÆ¼R8ä\u001alÌAi¸\u000eï\u0019Õ}k@ÓØ`\u0015æLc,Í\u0000Âç\u0019ù\u0001:Ú¶\u001d",
      "ü/9«ÎW¦.¦®;75Áv|{,\u0004\u0003U:ÆKòzÉ×ÿÕ~\u00104úíEóÂ\u0000q¶©\u000b",
      "\u000b",
      "RF4\u001fÑ=¯~E\u001a",
      ">:bpµÙQ³c\t\u0001\u0014%¦x\u001e",
      "÷©>E\u0019³&ÆY\\Ï\u0006{É\u0006\n",
      "ðM'IAý\u0002í¿/ërì|\n",
      "QS±¦¬ÝAf­©ÚqÓO\b¨b{\u0003\u0013O­×9ýu>ÁþKN$\u001beý\u000b",
      "®ísiF£\u001b\u0000äðvþ\f",
      "¿`\u0001UV(A¥}s\u0015[3\u001e",
      "F\u0007Y\u001b}©)¶¯;©ty! È³<\u0015Ií\t\u0010bjoõa4ÛY\u001d",
      "NÞ®¬Î$«¶RLØVÅS\u0003ÓÛ?3gcàÎ±\u000b",
      "ë½¥\u0016\t&\u001c",
      "³ÒÄ¦PõnAO |ìÃp±í.ý\u0006\u0016\u0014ºø'V÷åµøf=Õ\u0005¨Ò\u0012¨T¾\u0007y\f",
      "8rÙM5\u001fº®-\t<¶ïÜD1õK\u0011)_\u001akZÂ«ñÿP¨\u0015,1a36ef57b2d79807330f2ee94bc49412386c79b28937cd376c8a7716b29a83af1947dc49dccda34d9da971f8e38eafdfd6933712a5edbd6c39a7733e687e716e, 46kxXZcPGGesQznttPoWvtctbtPAA5aMATlwir2jXVs= mine to earn $1]\n",
      "block hash is 0000c874977c58d26b8abe58157bce8a01f70434fa875ec75c3113897c9c1381\n",
      "\n",
      "\n",
      "\n",
      "\n"
     ]
    }
   ],
   "source": [
    "node1.print_blockchain()"
   ]
  },
  {
   "cell_type": "code",
   "execution_count": null,
   "metadata": {},
   "outputs": [],
   "source": []
  }
 ],
 "metadata": {
  "kernelspec": {
   "display_name": "Python 3",
   "language": "python",
   "name": "python3"
  },
  "language_info": {
   "codemirror_mode": {
    "name": "ipython",
    "version": 3
   },
   "file_extension": ".py",
   "mimetype": "text/x-python",
   "name": "python",
   "nbconvert_exporter": "python",
   "pygments_lexer": "ipython3",
   "version": "3.7.9"
  }
 },
 "nbformat": 4,
 "nbformat_minor": 4
}
