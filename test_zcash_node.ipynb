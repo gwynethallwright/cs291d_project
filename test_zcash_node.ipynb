{
 "cells": [
  {
   "cell_type": "code",
   "execution_count": 1,
   "metadata": {},
   "outputs": [],
   "source": [
    "from zcash.node import *\n",
    "node1 = Node(8002, \"node 1\")"
   ]
  },
  {
   "cell_type": "code",
   "execution_count": 2,
   "metadata": {},
   "outputs": [
    {
     "name": "stdout",
     "output_type": "stream",
     "text": [
      "node 1 creates genesis block\n",
      "\n",
      "node 1  running\n",
      "\n"
     ]
    }
   ],
   "source": [
    "node1.start()"
   ]
  },
  {
   "cell_type": "code",
   "execution_count": 3,
   "metadata": {},
   "outputs": [
    {
     "name": "stdout",
     "output_type": "stream",
     "text": [
      "node 1 blockchain\n",
      "hash of prev block is None\n",
      "transactions are [/XN+cv2+Zaonl2PLy6U+L/B0shrh+Bbu97B/sZ0jA8E= mine to earn $1]\n",
      "block hash is 000b633b1cd18b7783ebfc5a051370e06b3bf2a98d251380f65470804cd89a05\n",
      "\n",
      "\n",
      "\n",
      "\n"
     ]
    }
   ],
   "source": [
    "node1.print_blockchain()"
   ]
  },
  {
   "cell_type": "code",
   "execution_count": 4,
   "metadata": {},
   "outputs": [],
   "source": [
    "node2 = Node(8003, \"node 2\")"
   ]
  },
  {
   "cell_type": "code",
   "execution_count": 5,
   "metadata": {},
   "outputs": [
    {
     "name": "stdout",
     "output_type": "stream",
     "text": [
      "node 1 handle request\n",
      "node 2  running\n",
      "\n"
     ]
    }
   ],
   "source": [
    "node2.start()"
   ]
  },
  {
   "cell_type": "code",
   "execution_count": 6,
   "metadata": {},
   "outputs": [
    {
     "name": "stdout",
     "output_type": "stream",
     "text": [
      "node 2 blockchain\n",
      "hash of prev block is None\n",
      "transactions are [/XN+cv2+Zaonl2PLy6U+L/B0shrh+Bbu97B/sZ0jA8E= mine to earn $1]\n",
      "block hash is 000b633b1cd18b7783ebfc5a051370e06b3bf2a98d251380f65470804cd89a05\n",
      "\n",
      "\n",
      "\n",
      "\n"
     ]
    }
   ],
   "source": [
    "node2.print_blockchain()"
   ]
  },
  {
   "cell_type": "code",
   "execution_count": 7,
   "metadata": {},
   "outputs": [
    {
     "name": "stdout",
     "output_type": "stream",
     "text": [
      "node 1  balance  1\n"
     ]
    }
   ],
   "source": [
    "node1.get_balance()"
   ]
  },
  {
   "cell_type": "code",
   "execution_count": 8,
   "metadata": {},
   "outputs": [
    {
     "name": "stdout",
     "output_type": "stream",
     "text": [
      "node 2  balance  0\n"
     ]
    }
   ],
   "source": [
    "node2.get_balance()"
   ]
  },
  {
   "cell_type": "code",
   "execution_count": 9,
   "metadata": {},
   "outputs": [
    {
     "name": "stdout",
     "output_type": "stream",
     "text": [
      "node 1 broadcast tx to node 2 localhost 8003\n",
      "node 2 handle request\n",
      "node 2 verify mint tx success\n",
      "node 2 generate new block successfully\n",
      "node 2 add new block successfully\n",
      "broadcast block to localhost 8002\n",
      "node 1 handle request\n",
      "node 1 handle new block\n",
      "node 1 block verify true\n",
      "node 1 verify tx success\n",
      "node 1 verify tx success\n",
      "node 1 block add successfully\n"
     ]
    }
   ],
   "source": [
    "# node1 mint and pour to send to node2\n",
    "tx1 = node1.mint_coin(1)\n",
    "node1.broadcast_new_transaction(tx1)"
   ]
  },
  {
   "cell_type": "code",
   "execution_count": 10,
   "metadata": {},
   "outputs": [
    {
     "name": "stdout",
     "output_type": "stream",
     "text": [
      "node 1 broadcast tx to node 2 localhost 8003\n",
      "node 2 handle request\n",
      "node 2 verify mint tx success\n",
      "node 2 generate new block successfully\n",
      "node 2 add new block successfully\n",
      "broadcast block to localhost 8002\n",
      "node 1 handle request\n",
      "node 1 handle new block\n",
      "node 1 block verify true\n",
      "node 1 verify tx success\n",
      "node 1 verify tx success\n",
      "node 1 block add successfully\n"
     ]
    }
   ],
   "source": [
    "tx2 = node1.mint_coin(1)\n",
    "node1.broadcast_new_transaction(tx2)"
   ]
  },
  {
   "cell_type": "code",
   "execution_count": 11,
   "metadata": {},
   "outputs": [],
   "source": [
    "coin_old_1 = list(node1.coin_set)[0]\n",
    "coin_old_2 = list(node1.coin_set)[1]\n",
    "tx3 = node1.pour_coin(coin_old_1, coin_old_2, node1.addr_sk, node1.addr_sk, 1, 1, node2.addr_pk, node2.addr_pk, 0, \"\")"
   ]
  },
  {
   "cell_type": "code",
   "execution_count": 12,
   "metadata": {},
   "outputs": [
    {
     "name": "stdout",
     "output_type": "stream",
     "text": [
      "node 1 broadcast tx to node 2 localhost 8003\n",
      "node 2 handle request\n",
      "node 2 verify pour tx success\n",
      "node 2 generate new block successfully\n",
      "node 2 add new block successfully\n",
      "broadcast block to localhost 8002\n",
      "node 1 handle request\n",
      "node 1 handle new block\n",
      "node 1 block verify true\n",
      "node 1 verify tx success\n",
      "node 1 verify tx success\n",
      "node 1 block add successfully\n"
     ]
    }
   ],
   "source": [
    "node1.broadcast_new_transaction(tx3)"
   ]
  },
  {
   "cell_type": "code",
   "execution_count": 13,
   "metadata": {},
   "outputs": [
    {
     "name": "stdout",
     "output_type": "stream",
     "text": [
      "288\n",
      "288\n"
     ]
    },
    {
     "ename": "TypeError",
     "evalue": "'NoneType' object is not iterable",
     "output_type": "error",
     "traceback": [
      "\u001b[1;31m---------------------------------------------------------------------------\u001b[0m",
      "\u001b[1;31mTypeError\u001b[0m                                 Traceback (most recent call last)",
      "\u001b[1;32m<ipython-input-13-a749c3dfe097>\u001b[0m in \u001b[0;36m<module>\u001b[1;34m\u001b[0m\n\u001b[1;32m----> 1\u001b[1;33m \u001b[0mnode2\u001b[0m\u001b[1;33m.\u001b[0m\u001b[0mreceive_coin\u001b[0m\u001b[1;33m(\u001b[0m\u001b[0mnode2\u001b[0m\u001b[1;33m.\u001b[0m\u001b[0maddr_pk\u001b[0m\u001b[1;33m,\u001b[0m \u001b[0mnode2\u001b[0m\u001b[1;33m.\u001b[0m\u001b[0maddr_sk\u001b[0m\u001b[1;33m)\u001b[0m\u001b[1;33m\u001b[0m\u001b[1;33m\u001b[0m\u001b[0m\n\u001b[0m",
      "\u001b[1;32mD:\\code\\python\\simpleChain\\cs291d_project\\zcash\\node.py\u001b[0m in \u001b[0;36mreceive_coin\u001b[1;34m(self, addr_pk, addr_sk)\u001b[0m\n\u001b[0;32m     72\u001b[0m     \u001b[1;32mdef\u001b[0m \u001b[0mreceive_coin\u001b[0m\u001b[1;33m(\u001b[0m\u001b[0mself\u001b[0m\u001b[1;33m,\u001b[0m \u001b[0maddr_pk\u001b[0m\u001b[1;33m,\u001b[0m \u001b[0maddr_sk\u001b[0m\u001b[1;33m)\u001b[0m\u001b[1;33m:\u001b[0m   \u001b[1;31m# test\u001b[0m\u001b[1;33m\u001b[0m\u001b[1;33m\u001b[0m\u001b[0m\n\u001b[0;32m     73\u001b[0m         \u001b[0mcoin_set\u001b[0m \u001b[1;33m=\u001b[0m \u001b[0mreceive\u001b[0m\u001b[1;33m(\u001b[0m\u001b[0mpp\u001b[0m\u001b[1;33m,\u001b[0m \u001b[0maddr_pk\u001b[0m\u001b[1;33m,\u001b[0m \u001b[0maddr_sk\u001b[0m\u001b[1;33m,\u001b[0m \u001b[0mself\u001b[0m\u001b[1;33m.\u001b[0m\u001b[0msn_list\u001b[0m\u001b[1;33m,\u001b[0m \u001b[0mself\u001b[0m\u001b[1;33m.\u001b[0m\u001b[0mledger\u001b[0m\u001b[1;33m)\u001b[0m\u001b[1;33m\u001b[0m\u001b[1;33m\u001b[0m\u001b[0m\n\u001b[1;32m---> 74\u001b[1;33m         \u001b[0mself\u001b[0m\u001b[1;33m.\u001b[0m\u001b[0mcoin_set\u001b[0m \u001b[1;33m=\u001b[0m \u001b[0mset\u001b[0m\u001b[1;33m.\u001b[0m\u001b[0munion\u001b[0m\u001b[1;33m(\u001b[0m\u001b[0mself\u001b[0m\u001b[1;33m.\u001b[0m\u001b[0mcoin_set\u001b[0m\u001b[1;33m,\u001b[0m \u001b[0mcoin_set\u001b[0m\u001b[1;33m)\u001b[0m\u001b[1;33m\u001b[0m\u001b[1;33m\u001b[0m\u001b[0m\n\u001b[0m\u001b[0;32m     75\u001b[0m \u001b[1;33m\u001b[0m\u001b[0m\n\u001b[0;32m     76\u001b[0m     \u001b[1;32mdef\u001b[0m \u001b[0mrun\u001b[0m\u001b[1;33m(\u001b[0m\u001b[0mself\u001b[0m\u001b[1;33m)\u001b[0m\u001b[1;33m:\u001b[0m\u001b[1;33m\u001b[0m\u001b[1;33m\u001b[0m\u001b[0m\n",
      "\u001b[1;31mTypeError\u001b[0m: 'NoneType' object is not iterable"
     ]
    }
   ],
   "source": [
    "node2.receive_coin(node2.addr_pk, node2.addr_sk)"
   ]
  },
  {
   "cell_type": "code",
   "execution_count": 10,
   "metadata": {},
   "outputs": [
    {
     "name": "stdout",
     "output_type": "stream",
     "text": [
      "node 2 blockchain\n",
      "hash of prev block is None\n",
      "transactions are [RF70Ibg/ktJ7lqieWJWPowxW44zMSqYWLH+dXwD9HbU= mine to earn $1]\n",
      "block hash is 000001652dfe800910c94ecb0f5dd55b6fb8c75d97864d8dfba0e7ecda6d8068\n",
      "\n",
      "\n",
      "\n",
      "\n"
     ]
    }
   ],
   "source": [
    "node2.print_blockchain()"
   ]
  },
  {
   "cell_type": "code",
   "execution_count": 12,
   "metadata": {},
   "outputs": [
    {
     "name": "stdout",
     "output_type": "stream",
     "text": [
      "1.3\n"
     ]
    }
   ],
   "source": [
    "node2.get_balance()"
   ]
  },
  {
   "cell_type": "code",
   "execution_count": 13,
   "metadata": {},
   "outputs": [
    {
     "name": "stdout",
     "output_type": "stream",
     "text": [
      "0.7\n"
     ]
    }
   ],
   "source": [
    "node1.get_balance()"
   ]
  },
  {
   "cell_type": "code",
   "execution_count": 14,
   "metadata": {},
   "outputs": [
    {
     "name": "stdout",
     "output_type": "stream",
     "text": [
      "hash of prev block is None\n",
      "transactions are [1pn+IANnEY+uc6NfKTFbg9EwtmsSZk1I8kAfunsksLk= mine to earn $1]\n",
      "block hash is 000009effe01296c57a5d3b77b7d5b0cd379aa6c31a451e2916a3a7f14cb7ce8\n",
      "\n",
      "\n",
      "hash of prev block is 000009effe01296c57a5d3b77b7d5b0cd379aa6c31a451e2916a3a7f14cb7ce8\n",
      "transactions are [7Jle7IuwGjIDDDyyDiqn1yRd9VZwB1Qk4dLdKKMq+JA= receive $0.3 from 1pn+IANnEY+uc6NfKTFbg9EwtmsSZk1I8kAfunsksLk=, 7Jle7IuwGjIDDDyyDiqn1yRd9VZwB1Qk4dLdKKMq+JA= mine to earn $1]\n",
      "block hash is 0000055191ea5f3804de383df33d5098f959386a364bb36a1aea9bb19f314c85\n",
      "\n",
      "\n"
     ]
    }
   ],
   "source": [
    "node1.print_blockchain()"
   ]
  },
  {
   "cell_type": "code",
   "execution_count": null,
   "metadata": {},
   "outputs": [],
   "source": []
  }
 ],
 "metadata": {
  "kernelspec": {
   "display_name": "Python 3",
   "language": "python",
   "name": "python3"
  },
  "language_info": {
   "codemirror_mode": {
    "name": "ipython",
    "version": 3
   },
   "file_extension": ".py",
   "mimetype": "text/x-python",
   "name": "python",
   "nbconvert_exporter": "python",
   "pygments_lexer": "ipython3",
   "version": "3.7.9"
  }
 },
 "nbformat": 4,
 "nbformat_minor": 4
}
