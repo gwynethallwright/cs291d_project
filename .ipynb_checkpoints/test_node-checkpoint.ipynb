{
 "cells": [
  {
   "cell_type": "code",
   "execution_count": 1,
   "metadata": {},
   "outputs": [],
   "source": [
    "from node import *\n",
    "node1 = Node(8002, \"node 1\")"
   ]
  },
  {
   "cell_type": "code",
   "execution_count": 2,
   "metadata": {},
   "outputs": [
    {
     "name": "stdout",
     "output_type": "stream",
     "text": [
      "创世区块\n",
      "node 1  running\n"
     ]
    }
   ],
   "source": [
    "node1.start()"
   ]
  },
  {
   "cell_type": "code",
   "execution_count": 3,
   "metadata": {},
   "outputs": [
    {
     "name": "stdout",
     "output_type": "stream",
     "text": [
      "hash of prev block is None\n",
      "transactions are [mine to earn:1]\n",
      "block hash is 00000fb24d8583ab2bf6980b89c9125ce38d254681cc7318a481a5a35ffb3d69\n",
      "\n",
      "\n"
     ]
    }
   ],
   "source": [
    "node1.print_blockchain()"
   ]
  },
  {
   "cell_type": "code",
   "execution_count": 4,
   "metadata": {},
   "outputs": [],
   "source": [
    "node2 = Node(8003, \"node 2\")"
   ]
  },
  {
   "cell_type": "code",
   "execution_count": 5,
   "metadata": {},
   "outputs": [
    {
     "name": "stdout",
     "output_type": "stream",
     "text": [
      "handle request\n",
      "node 2  running\n"
     ]
    },
    {
     "name": "stderr",
     "output_type": "stream",
     "text": [
      "Exception in thread node 1:\n",
      "Traceback (most recent call last):\n",
      "  File \"c:\\users\\win10\\appdata\\local\\programs\\python\\python37\\lib\\threading.py\", line 926, in _bootstrap_inner\n",
      "    self.run()\n",
      "  File \"D:\\code\\python\\simpleChain\\cs291d_project\\node.py\", line 43, in run\n",
      "    connection, addr = sock.accept()\n",
      "  File \"c:\\users\\win10\\appdata\\local\\programs\\python\\python37\\lib\\socket.py\", line 212, in accept\n",
      "    fd, addr = self._accept()\n",
      "OSError: [WinError 10038] 在一个非套接字上尝试了一个操作。\n",
      "\n"
     ]
    }
   ],
   "source": [
    "node2.start()"
   ]
  },
  {
   "cell_type": "code",
   "execution_count": 6,
   "metadata": {},
   "outputs": [
    {
     "name": "stdout",
     "output_type": "stream",
     "text": [
      "hash of prev block is None\n",
      "transactions are [mine to earn:1]\n",
      "block hash is 00000fb24d8583ab2bf6980b89c9125ce38d254681cc7318a481a5a35ffb3d69\n",
      "\n",
      "\n"
     ]
    }
   ],
   "source": [
    "node2.print_blockchain()"
   ]
  },
  {
   "cell_type": "code",
   "execution_count": 7,
   "metadata": {},
   "outputs": [
    {
     "name": "stdout",
     "output_type": "stream",
     "text": [
      "1\n"
     ]
    }
   ],
   "source": [
    "node1.get_balance()"
   ]
  },
  {
   "cell_type": "code",
   "execution_count": 8,
   "metadata": {},
   "outputs": [
    {
     "name": "stdout",
     "output_type": "stream",
     "text": [
      "0\n"
     ]
    }
   ],
   "source": [
    "node2.get_balance()"
   ]
  },
  {
   "cell_type": "code",
   "execution_count": 9,
   "metadata": {},
   "outputs": [],
   "source": [
    "tx = Transaction(sender=node1.wallet, receiver=node2.wallet, amount=0.3)\n",
    "sig = node1.wallet.sign(str(tx))\n",
    "tx.set_sign(node1.wallet.pubkey, sig)"
   ]
  },
  {
   "cell_type": "code",
   "execution_count": 10,
   "metadata": {},
   "outputs": [
    {
     "name": "stdout",
     "output_type": "stream",
     "text": [
      "handle request\n",
      "node 2 verify tx success\n",
      "node 2 generate new block successfully\n",
      "node 2 add new block successfully\n",
      "[WinError 10048] 通常每个套接字地址(协议/网络地址/端口)只允许使用一次。\n"
     ]
    },
    {
     "name": "stderr",
     "output_type": "stream",
     "text": [
      "Exception in thread node 2:\n",
      "Traceback (most recent call last):\n",
      "  File \"c:\\users\\win10\\appdata\\local\\programs\\python\\python37\\lib\\threading.py\", line 926, in _bootstrap_inner\n",
      "    self.run()\n",
      "  File \"D:\\code\\python\\simpleChain\\cs291d_project\\node.py\", line 43, in run\n",
      "    connection, addr = sock.accept()\n",
      "  File \"c:\\users\\win10\\appdata\\local\\programs\\python\\python37\\lib\\socket.py\", line 212, in accept\n",
      "    fd, addr = self._accept()\n",
      "OSError: [WinError 10038] 在一个非套接字上尝试了一个操作。\n",
      "\n"
     ]
    }
   ],
   "source": [
    "node1.broadcast_new_transaction(tx)"
   ]
  },
  {
   "cell_type": "code",
   "execution_count": 11,
   "metadata": {},
   "outputs": [
    {
     "name": "stdout",
     "output_type": "stream",
     "text": [
      "hash of prev block is None\n",
      "transactions are [mine to earn:1]\n",
      "block hash is 00000fb24d8583ab2bf6980b89c9125ce38d254681cc7318a481a5a35ffb3d69\n",
      "\n",
      "\n",
      "hash of prev block is None\n",
      "transactions are [receive:0.3, mine to earn:1]\n",
      "block hash is 00000fdfcdf9d5aa9a0719c888b5ad45fd87932db6ae075fe39de1098039c78c\n",
      "\n",
      "\n"
     ]
    }
   ],
   "source": [
    "node2.print_blockchain()"
   ]
  },
  {
   "cell_type": "code",
   "execution_count": 12,
   "metadata": {},
   "outputs": [
    {
     "name": "stdout",
     "output_type": "stream",
     "text": [
      "1\n"
     ]
    }
   ],
   "source": [
    "node2.get_balance()"
   ]
  },
  {
   "cell_type": "code",
   "execution_count": 13,
   "metadata": {},
   "outputs": [
    {
     "name": "stdout",
     "output_type": "stream",
     "text": [
      "1\n"
     ]
    }
   ],
   "source": [
    "node1.get_balance()"
   ]
  },
  {
   "cell_type": "code",
   "execution_count": 14,
   "metadata": {},
   "outputs": [
    {
     "name": "stdout",
     "output_type": "stream",
     "text": [
      "hash of prev block is None\n",
      "transactions are [mine to earn:1]\n",
      "block hash is 00000fb24d8583ab2bf6980b89c9125ce38d254681cc7318a481a5a35ffb3d69\n",
      "\n",
      "\n"
     ]
    }
   ],
   "source": [
    "node1.print_blockchain()"
   ]
  },
  {
   "cell_type": "code",
   "execution_count": null,
   "metadata": {},
   "outputs": [],
   "source": []
  }
 ],
 "metadata": {
  "kernelspec": {
   "display_name": "Python 3",
   "language": "python",
   "name": "python3"
  },
  "language_info": {
   "codemirror_mode": {
    "name": "ipython",
    "version": 3
   },
   "file_extension": ".py",
   "mimetype": "text/x-python",
   "name": "python",
   "nbconvert_exporter": "python",
   "pygments_lexer": "ipython3",
   "version": "3.7.9"
  }
 },
 "nbformat": 4,
 "nbformat_minor": 4
}
